{
 "cells": [
  {
   "cell_type": "markdown",
   "id": "2613267c-abee-4280-97a6-77332440fb59",
   "metadata": {},
   "source": [
    "My Jupyter Notebook on IBM Watson Studio"
   ]
  },
  {
   "cell_type": "markdown",
   "id": "ec0f40f7-f5c0-4221-94d0-8e8c85aa3bfb",
   "metadata": {},
   "source": [
    "SUSMITA KACHARI\n",
    "Student"
   ]
  },
  {
   "cell_type": "markdown",
   "id": "1e884d5f-77e3-42cf-b207-9c76021b6fdd",
   "metadata": {},
   "source": [
    "_I am interested in data science because it makes easy handling large datas._"
   ]
  },
  {
   "cell_type": "markdown",
   "id": "5f36437d-9920-4df3-b0ae-3cf784d9f67b",
   "metadata": {},
   "source": [
    "###in the cell 4 trying to write a code to add two numbers and display the answer"
   ]
  },
  {
   "cell_type": "code",
   "execution_count": 1,
   "id": "be465ef5-ffd1-4e15-9c34-e34fe9d4a94d",
   "metadata": {},
   "outputs": [
    {
     "data": {
      "text/plain": [
       "2"
      ]
     },
     "execution_count": 1,
     "metadata": {},
     "output_type": "execute_result"
    }
   ],
   "source": [
    "1+1"
   ]
  },
  {
   "cell_type": "markdown",
   "id": "273075e8-a901-479f-a8b5-990d5b5470ba",
   "metadata": {},
   "source": [
    "|heading1|heading2|\n",
    "|-----|-----|\n",
    "|cell1|cell2\n",
    "\n",
    "-    \n",
    "- \n",
    "\n",
    "1. \n",
    "\n",
    "2. \n",
    "\n"
   ]
  },
  {
   "cell_type": "markdown",
   "id": "d167c223-d1dc-41bc-9ac2-d50a15215473",
   "metadata": {},
   "source": []
  }
 ],
 "metadata": {
  "kernelspec": {
   "display_name": "Python",
   "language": "python",
   "name": "conda-env-python-py"
  },
  "language_info": {
   "codemirror_mode": {
    "name": "ipython",
    "version": 3
   },
   "file_extension": ".py",
   "mimetype": "text/x-python",
   "name": "python",
   "nbconvert_exporter": "python",
   "pygments_lexer": "ipython3",
   "version": "3.7.12"
  },
  "toc-autonumbering": true,
  "toc-showmarkdowntxt": true,
  "toc-showtags": false
 },
 "nbformat": 4,
 "nbformat_minor": 5
}
